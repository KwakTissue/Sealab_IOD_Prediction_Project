{
 "cells": [
  {
   "cell_type": "markdown",
   "metadata": {
    "id": "KPoOwP7yFljf"
   },
   "source": [
    "# 인도양 쌍극자 진동지수 1년 예측 모델링\n",
    "\n",
    "  ## 예측변수&예측인자 자료\n",
    "\n",
    "* 예측변수\n",
    "  * 인도양쌍극자진동 지수\n",
    "* 예측인자\n",
    "  * 해수면온도편차\n",
    "  * 지상동서바람편차\n",
    "  * 지상남북바람편차\n",
    "  * 강수량편차\n",
    "  * 전지구 이산화탄소평균\n",
    "  * 전지구 메탄평균\n",
    "\n",
    "  *주어진 자료기간은 1982년 1월부터 2023년 7월까지입니다.*\n",
    "\n",
    "## 모델링 개요\n",
    "\n",
    "* ConvLSTM모델을 사용한 예측\n",
    "  * 온실가스를 포함한 모델과 포함하지 않는 모델의 RMSE를 비교합니다.\n",
    "  * Leed Time별 RMSE를 비교하여 모델을 선택합니다.\n",
    "\n",
    "  *예측기간은 2023년 8월부터 2024년 7월까지입니다.*"
   ]
  },
  {
   "cell_type": "markdown",
   "metadata": {
    "id": "nUTxDHeOPhRT"
   },
   "source": [
    "# 1.환경준비"
   ]
  },
  {
   "cell_type": "markdown",
   "metadata": {
    "id": "aihSa72GQ-Re"
   },
   "source": [
    "## (1) 라이브러리 로딩"
   ]
  },
  {
   "cell_type": "code",
   "execution_count": null,
   "metadata": {
    "id": "RrRaCzn2Q9f_"
   },
   "outputs": [],
   "source": [
    "# 전처리\n",
    "import pandas as pd\n",
    "import numpy as np\n",
    "import xarray as xr\n",
    "from datetime import datetime, timedelta\n",
    "from sklearn.preprocessing import MinMaxScaler\n",
    "\n",
    "# 시각화\n",
    "import matplotlib.pyplot as plt\n",
    "import seaborn as sns\n",
    "\n",
    "# 모델링\n",
    "import tensorflow as tf\n",
    "from keras.models import Model\n",
    "from keras.layers import Input\n",
    "from keras.layers import Dense\n",
    "from keras.layers import Flatten\n",
    "from keras.layers import ConvLSTM2D\n",
    "from keras.layers import BatchNormalization\n",
    "from keras.layers import Conv3D\n",
    "from keras.layers import Dropout\n",
    "from keras.layers import Activation\n",
    "from keras.backend import clear_session\n",
    "from keras.callbacks import EarlyStopping\n",
    "\n",
    "# 평가\n",
    "from sklearn.metrics import *\n",
    "\n",
    "# 시드값 고정\n",
    "import random as rn\n",
    "import os\n",
    "\n",
    "SEED = 42\n",
    "os.environ['PYTHONHASHSEED'] = str(SEED)\n",
    "os.environ['TF_DETERMINISTIC_OPS'] = '1'\n",
    "tf.random.set_seed(SEED)\n",
    "np.random.seed(SEED)\n",
    "rn.seed(SEED)\n",
    "\n",
    "# 경고문 무시\n",
    "import warnings\n",
    "warnings.filterwarnings('ignore')"
   ]
  },
  {
   "cell_type": "markdown",
   "metadata": {
    "id": "nfeEMZwVSOhf"
   },
   "source": [
    "## (2) 데이터 불러오기"
   ]
  },
  {
   "cell_type": "code",
   "execution_count": null,
   "metadata": {},
   "outputs": [],
   "source": [
    "# # 구글 코랩에서 사용시 경로 코드\n",
    "# from google.colab import drive\n",
    "# drive.mount('/content/gdrive')\n",
    "# %cd /content/gdrive/MyDrive/Ocean_Market"
   ]
  },
  {
   "cell_type": "code",
   "execution_count": null,
   "metadata": {
    "id": "cfamSQqkfBlp"
   },
   "outputs": [],
   "source": [
    "# 기본예측인자\n",
    "sst = xr.open_dataset('./sst.anom.mon.mean.nc', decode_times=False)['sst']\n",
    "precip = xr.open_dataset('./precip.anom.mon.mean.nc', decode_times=False)['precip']\n",
    "vwnd = xr.open_dataset('./vwnd.10m.anom.mon.mean.nc', decode_times=False)['vwnd']\n",
    "uwnd = xr.open_dataset('./uwnd.10m.anom.mon.mean.nc', decode_times=False)['uwnd']\n",
    "\n",
    "# 예측변수\n",
    "iod = xr.open_dataset('./iod.nc', decode_times=False)['iod']\n",
    "\n",
    "# 온실가스\n",
    "co2_data = pd.read_csv('co2.csv') # 이산화탄소\n",
    "ch4_data = pd.read_csv('ch4.csv') # 메탄"
   ]
  },
  {
   "cell_type": "markdown",
   "metadata": {
    "id": "mMgMT11ifO5j"
   },
   "source": [
    "# 2.전처리1(기본예측인자)"
   ]
  },
  {
   "cell_type": "markdown",
   "metadata": {
    "id": "JSYJ3YnSgzwN"
   },
   "source": [
    "## (1) 기초전처리"
   ]
  },
  {
   "cell_type": "code",
   "execution_count": null,
   "metadata": {
    "id": "7Wz4xaG2fEIc"
   },
   "outputs": [],
   "source": [
    "# 시간형식 변경\n",
    "times = []\n",
    "for i in sst['time'].values:\n",
    "    times.append(datetime(1, 1, 1) + timedelta(hours=i) - timedelta(days=2))\n",
    "\n",
    "sst['time'] = times[:]\n",
    "precip['time'] = times[:]\n",
    "vwnd['time'] = times[:]\n",
    "uwnd['time'] = times[:]\n",
    "iod['time'] = times[:]"
   ]
  },
  {
   "cell_type": "code",
   "execution_count": null,
   "metadata": {
    "id": "fRR46QBVfFuf"
   },
   "outputs": [],
   "source": [
    "# 서인도양 (50°E~70°E, 10°S~10°N)\n",
    "minlat_w, maxlat_w = -10, 10\n",
    "minlon_w, maxlon_w = 50, 70\n",
    "\n",
    "sst_WTIO = sst.sel(lat=slice(minlat_w, maxlat_w), lon=slice(minlon_w, maxlon_w))\n",
    "precip_WTIO = precip.sel(lat=slice(minlat_w, maxlat_w), lon=slice(minlon_w, maxlon_w))\n",
    "vwnd_WTIO = vwnd.sel(lat=slice(minlat_w, maxlat_w), lon=slice(minlon_w, maxlon_w))\n",
    "uwnd_WTIO = uwnd.sel(lat=slice(minlat_w, maxlat_w), lon=slice(minlon_w, maxlon_w))\n",
    "\n",
    "# 동인도양 (90°E~110°E, 10°S~10°N)\n",
    "minlat_e, maxlat_e = -10, 10\n",
    "minlon_e, maxlon_e = 90, 110\n",
    "\n",
    "sst_SETIO = sst.sel(lat=slice(minlat_e, maxlat_e), lon=slice(minlon_e, maxlon_e))\n",
    "precip_SETIO = precip.sel(lat=slice(minlat_e, maxlat_e), lon=slice(minlon_e, maxlon_e))\n",
    "vwnd_SETIO = vwnd.sel(lat=slice(minlat_e, maxlat_e), lon=slice(minlon_e, maxlon_e))\n",
    "uwnd_SETIO = uwnd.sel(lat=slice(minlat_e, maxlat_e), lon=slice(minlon_e, maxlon_e))"
   ]
  },
  {
   "cell_type": "code",
   "execution_count": null,
   "metadata": {
    "id": "-tSOP2LfgmcH"
   },
   "outputs": [],
   "source": [
    "# lev 변수 삭제 (lev값이 1개만 존재하여 유의미하지 않다)\n",
    "vwnd_WTIO = vwnd_WTIO.sel(lev=10)\n",
    "vwnd_SETIO = vwnd_SETIO.sel(lev=10)\n",
    "\n",
    "uwnd_WTIO = uwnd_WTIO.sel(lev=10)\n",
    "uwnd_SETIO = uwnd_SETIO.sel(lev=10)"
   ]
  },
  {
   "cell_type": "code",
   "execution_count": null,
   "metadata": {
    "colab": {
     "base_uri": "https://localhost:8080/"
    },
    "id": "_XfS13mLgmjT",
    "outputId": "a7458b07-8625-4b7c-d7ca-d3e8c28eddab"
   },
   "outputs": [],
   "source": [
    "# WTIO, SETIO 데이터 결합\n",
    "# 두 데이터의 lat의 범위가 같으므로 lat을 기준으로 합친다 # (time, lat, lon)\n",
    "sst_data = np.concatenate([sst_WTIO.values, sst_SETIO.values], 2)\n",
    "precip_data = np.concatenate([precip_WTIO.values, precip_SETIO.values], 2)\n",
    "vwnd_data = np.concatenate([vwnd_WTIO.values, vwnd_SETIO.values], 2)\n",
    "uwnd_data = np.concatenate([uwnd_WTIO.values, uwnd_SETIO.values], 2)\n",
    "print('sst shape :', sst_data.shape)\n",
    "print('precip shape :', precip_data.shape)\n",
    "print('vwnd shape :', vwnd_data.shape)\n",
    "print('uwnd shape :', uwnd_data.shape)"
   ]
  },
  {
   "cell_type": "markdown",
   "metadata": {
    "id": "6yE3qGpPhuqY"
   },
   "source": [
    "## (2) 결측치 처리"
   ]
  },
  {
   "cell_type": "markdown",
   "metadata": {
    "id": "LwQYWFGciMY_"
   },
   "source": [
    "### 결측치 확인"
   ]
  },
  {
   "cell_type": "code",
   "execution_count": null,
   "metadata": {
    "id": "o0KLySm6gmqe"
   },
   "outputs": [],
   "source": [
    "# nan 값 원소 개수 확인 함수\n",
    "def find_nan_num(data):\n",
    "    nan_values = data[np.isnan(data)] # nan 값 확인\n",
    "    vnames = [name for name in globals() if globals()[name] is data] # 변수명 인쇄\n",
    "    print(f'{vnames[0]} 원소 중 NaN 값 개수 : {len(nan_values)}')"
   ]
  },
  {
   "cell_type": "code",
   "execution_count": null,
   "metadata": {
    "colab": {
     "base_uri": "https://localhost:8080/"
    },
    "id": "YHvOx2Z2h3z0",
    "outputId": "c5d433bb-5972-427a-92c9-146b6a12c68f"
   },
   "outputs": [],
   "source": [
    "features_list = [sst_data, precip_data, vwnd_data, uwnd_data]\n",
    "for feature in features_list:\n",
    "    find_nan_num(feature)"
   ]
  },
  {
   "cell_type": "code",
   "execution_count": null,
   "metadata": {
    "colab": {
     "base_uri": "https://localhost:8080/"
    },
    "id": "AHZn25w4h5C8",
    "outputId": "10528e98-ff30-4b2c-8bdd-ccecd4f4a323"
   },
   "outputs": [],
   "source": [
    "# 29개\n",
    "len(sst_data[0][np.isnan(sst_data[0])])\n",
    "# 지표면 때문에 시간단위 한개당 29개의 결측치가 sst_data에 생겼다."
   ]
  },
  {
   "cell_type": "markdown",
   "metadata": {
    "id": "YMd25ShriPue"
   },
   "source": [
    "### Cubic interpolate 방법으로 결측치 처리"
   ]
  },
  {
   "cell_type": "code",
   "execution_count": null,
   "metadata": {
    "id": "wHztg-jRiH9H"
   },
   "outputs": [],
   "source": [
    "# Cubic interpolate를 사용한 sst_data NaN 값 채우기\n",
    "result = []\n",
    "for x in sst_data:\n",
    "    temp = pd.DataFrame(x).interpolate(method='cubic')\n",
    "    temp.iloc[19, 0] = temp.iloc[18, 0]\n",
    "    result.append(temp.to_numpy())\n",
    "\n",
    "sst_data = np.array(result)[:]"
   ]
  },
  {
   "cell_type": "code",
   "execution_count": null,
   "metadata": {
    "colab": {
     "base_uri": "https://localhost:8080/"
    },
    "id": "kHoRy7SUiIJW",
    "outputId": "04c701a9-e096-4867-b7f1-c61ceef7cf94"
   },
   "outputs": [],
   "source": [
    "find_nan_num(sst_data)"
   ]
  },
  {
   "cell_type": "markdown",
   "metadata": {
    "id": "zctmOlvgmPsm"
   },
   "source": [
    "## (3) 스케일링"
   ]
  },
  {
   "cell_type": "code",
   "execution_count": null,
   "metadata": {
    "id": "_DOm7_YNmV9d"
   },
   "outputs": [],
   "source": [
    "# 3차원 MinMaxScaler\n",
    "def three_d_minmax(data):\n",
    "    scaler = MinMaxScaler()\n",
    "    X_scale = scaler.fit_transform(data.reshape(-1, data.shape[-1])).reshape(data.shape)\n",
    "\n",
    "    return X_scale"
   ]
  },
  {
   "cell_type": "code",
   "execution_count": null,
   "metadata": {
    "id": "EZ_7_EovmXT-"
   },
   "outputs": [],
   "source": [
    "sst_data_scale = three_d_minmax(sst_data)\n",
    "precip_data_scale = three_d_minmax(precip_data)\n",
    "vwnd_data_scale = three_d_minmax(vwnd_data)\n",
    "uwnd_data_scale = three_d_minmax(uwnd_data)"
   ]
  },
  {
   "cell_type": "markdown",
   "metadata": {
    "id": "VxE4UIA_fpDJ"
   },
   "source": [
    "# 3.전처리2(온실가스)"
   ]
  },
  {
   "cell_type": "code",
   "execution_count": null,
   "metadata": {
    "id": "mwGdT0D6gCEN"
   },
   "outputs": [],
   "source": [
    "# 데이터 shape 변경 함수\n",
    "def transformer(n, m, data):\n",
    "    result = []\n",
    "    for i in data:\n",
    "        temp = [i for _ in range(n*m)]\n",
    "        temp = np.array(temp)\n",
    "        temp = temp.reshape(n, m)\n",
    "        result.append(temp)\n",
    "\n",
    "    return np.array(result)"
   ]
  },
  {
   "cell_type": "code",
   "execution_count": null,
   "metadata": {
    "id": "EV0KmBOPgCQ_"
   },
   "outputs": [],
   "source": [
    "# CO2와 메탄은 전지구적 평균이므로 같은값으로 shape를 확장시킨다.\n",
    "co2_data_re = transformer(20, 42, co2_data.to_numpy())\n",
    "ch4_data_re = transformer(20, 42, ch4_data.to_numpy())"
   ]
  },
  {
   "cell_type": "code",
   "execution_count": null,
   "metadata": {
    "id": "0V3_Se1SgCX-"
   },
   "outputs": [],
   "source": [
    "# 3차원 minmax 스케일링\n",
    "co2_data_scale = three_d_minmax(co2_data_re)\n",
    "ch4_data_scale = three_d_minmax(ch4_data_re)"
   ]
  },
  {
   "cell_type": "markdown",
   "metadata": {
    "id": "T9QvrvwlmjGs"
   },
   "source": [
    "# 4.전처리3(예측변수)"
   ]
  },
  {
   "cell_type": "code",
   "execution_count": null,
   "metadata": {
    "id": "rwslhLSKR8UD"
   },
   "outputs": [],
   "source": [
    "# lat, lon 변수 삭제\n",
    "iod_data = iod.sel(lon=1, lat=1).values"
   ]
  },
  {
   "cell_type": "code",
   "execution_count": null,
   "metadata": {
    "colab": {
     "base_uri": "https://localhost:8080/"
    },
    "id": "F1cE1zoNSN7y",
    "outputId": "e3b3ea79-09ab-427a-8e48-771102ce30f8"
   },
   "outputs": [],
   "source": [
    "# iod 이상치 확인\n",
    "plt.figure(figsize=(12, 8))\n",
    "\n",
    "plt.subplot(2, 1, 1)\n",
    "plt.plot(iod['time'], iod_data)\n",
    "plt.grid(linestyle='--', color='gray')\n",
    "plt.title('Indian Ocean Dipole: Line')\n",
    "\n",
    "plt.subplot(2, 1, 2)\n",
    "sns.boxplot(x=iod_data)\n",
    "plt.grid(linestyle='--', color='gray')\n",
    "plt.title('Indian Ocean Dipole: Boxplot')\n",
    "\n",
    "plt.tight_layout()\n",
    "plt.show()"
   ]
  },
  {
   "cell_type": "markdown",
   "metadata": {
    "id": "uO6dIeCZSooJ"
   },
   "source": [
    "# 모델링 데이터셋 생성"
   ]
  },
  {
   "cell_type": "markdown",
   "metadata": {
    "id": "lnVz2IJYSykK"
   },
   "source": [
    "## (1) 예측인자 reshape"
   ]
  },
  {
   "cell_type": "code",
   "execution_count": null,
   "metadata": {
    "id": "Haim_MAzSvJ6"
   },
   "outputs": [],
   "source": [
    "# shape를 맞추기 위한 MLPclass 생성\n",
    "class MLP(Model):\n",
    "    def __init__(self, in_chans=None, latent_dim=784, out_dim=None, act_layer=Activation('gelu'), drop_rate=None):\n",
    "        super(MLP, self).__init__()\n",
    "        self.fc1 = Dense(latent_dim)\n",
    "        self.fc2 = Dense(out_dim)\n",
    "        self.act = act_layer\n",
    "        self.drop = Dropout(drop_rate)\n",
    "\n",
    "    def call(self, x):\n",
    "        x = Flatten()(x)\n",
    "        x = self.fc1(x)\n",
    "        x = self.act(x)\n",
    "        x = self.drop(x)\n",
    "\n",
    "        x = self.fc2(x)\n",
    "        x = self.drop(x)\n",
    "\n",
    "        return x"
   ]
  },
  {
   "cell_type": "code",
   "execution_count": null,
   "metadata": {
    "id": "JE5L5WyhTA54"
   },
   "outputs": [],
   "source": [
    "# 모델 생성\n",
    "def feature_reshape(data):\n",
    "    clear_session()\n",
    "\n",
    "    model = MLP(in_chans=data.shape[0]*data.shape[1]*data.shape[2], latent_dim=196, out_dim=840, drop_rate=0.2)\n",
    "\n",
    "    output = model(data)\n",
    "\n",
    "    temp = output.numpy()\n",
    "\n",
    "    return temp.reshape(499, 20, 42) # sst_data.shape == (499, 20, 42)"
   ]
  },
  {
   "cell_type": "code",
   "execution_count": null,
   "metadata": {
    "colab": {
     "base_uri": "https://localhost:8080/"
    },
    "id": "lDZGlfkqTK1h",
    "outputId": "9980567e-fbb3-4cdf-9be4-6f61105bc898"
   },
   "outputs": [],
   "source": [
    "precip_data_re = feature_reshape(precip_data_scale)\n",
    "vwnd_data_re = feature_reshape(vwnd_data_scale)\n",
    "uwnd_data_re = feature_reshape(uwnd_data_scale)\n",
    "\n",
    "print('sst shape :', sst_data_scale.shape)\n",
    "print('New precip shape :', precip_data_re.shape)\n",
    "print('New vwnd shape :', vwnd_data_re.shape)\n",
    "print('New uwnd shape :', uwnd_data_re.shape)"
   ]
  },
  {
   "cell_type": "markdown",
   "metadata": {
    "id": "X-y9mKeDTO-p"
   },
   "source": [
    "## (2) 데이터셋 생성"
   ]
  },
  {
   "cell_type": "code",
   "execution_count": null,
   "metadata": {
    "id": "fVuhYWkTTOD5"
   },
   "outputs": [],
   "source": [
    "# 온실가스 무\n",
    "feature_total = np.stack([sst_data_scale, precip_data_re, vwnd_data_re, uwnd_data_re], axis=3)\n",
    "\n",
    "# 온실가스 유\n",
    "feature_total_gas = np.stack([sst_data_scale, precip_data_re, vwnd_data_re, uwnd_data_re, co2_data_scale, ch4_data_scale], axis=3)"
   ]
  },
  {
   "cell_type": "markdown",
   "metadata": {
    "id": "xZw61EzGfpu5"
   },
   "source": [
    "# 4.모델링"
   ]
  },
  {
   "cell_type": "markdown",
   "metadata": {
    "id": "dvU2ICwnT6v8"
   },
   "source": [
    "## (1) 함수 생성"
   ]
  },
  {
   "cell_type": "markdown",
   "metadata": {
    "id": "XS9xPBUZUdFs"
   },
   "source": [
    "### 시계열 데이터 분할 함수"
   ]
  },
  {
   "cell_type": "code",
   "execution_count": null,
   "metadata": {
    "id": "GWeaCLiJT6Et"
   },
   "outputs": [],
   "source": [
    "# 다변량 시퀀스를 샘플로 분할하는 함수\n",
    "# input 부분만 추출 (target과 featrue가 현재 다른 데이터이므로 다른 함수를 사용)\n",
    "def split_sequences_x(sequences, n_steps_in, n_steps_out=12):\n",
    "    # n_steps_in : 예측에 사용하는 이전 시간단계 수\n",
    "    # n_steps_out : 예측하려는 시간단계 수\n",
    "    X = []\n",
    "    for i in range(len(sequences)):\n",
    "        # 패턴의 끝을 찾기\n",
    "        end_ix = i + n_steps_in\n",
    "        out_end_ix = end_ix + n_steps_out\n",
    "        # 데이터셋을 벗어났는지 확인\n",
    "        if out_end_ix > len(sequences):\n",
    "            break\n",
    "        # 패턴의 input부분을 추출\n",
    "        seq_x = sequences[i:end_ix, :]\n",
    "        X.append(seq_x)\n",
    "    return np.array(X)"
   ]
  },
  {
   "cell_type": "code",
   "execution_count": null,
   "metadata": {
    "id": "YNnVPwq0gFIm"
   },
   "outputs": [],
   "source": [
    "# 일변량 시퀀스를 샘플로 분할하는 함수\n",
    "# output 부분만 추출 (target과 featrue가 현재 다른 데이터이므로 다른 함수를 사용)\n",
    "def split_sequence_y(sequence, n_steps_in, n_steps_out=12):\n",
    "    y = []\n",
    "    for i in range(len(sequence)):\n",
    "        # 패턴의 끝을 찾기\n",
    "        end_ix = i + n_steps_in\n",
    "        out_end_ix = end_ix + n_steps_out\n",
    "        # 데이터셋을 벗어났는지 확인\n",
    "        if out_end_ix > len(sequence):\n",
    "            break\n",
    "        # 패턴의 output부분을 추출\n",
    "        seq_y = sequence[end_ix:out_end_ix]\n",
    "        y.append(seq_y)\n",
    "    return np.array(y)"
   ]
  },
  {
   "cell_type": "code",
   "execution_count": null,
   "metadata": {
    "id": "uNyvNXLKUZkV"
   },
   "outputs": [],
   "source": [
    "def split_data(x_data, y_data, n_steps_in):\n",
    "    ### 시계열 시퀸스 분할\n",
    "    # target\n",
    "    iod_y = split_sequence_y(y_data, n_steps_in)\n",
    "\n",
    "    # feature\n",
    "    X= split_sequences_x(x_data, n_steps_in)\n",
    "\n",
    "    ### train, val 데이터셋 분할\n",
    "    # train : val = 8 : 2\n",
    "    split_num = int(X.shape[0]*0.2)\n",
    "    print(f'{split_num}개의 데이터를 val로 설정')\n",
    "    print('='*80)\n",
    "\n",
    "    # features train, val 분활\n",
    "    x_train, x_val = X[:-split_num], X[-split_num:]\n",
    "\n",
    "    # target train, val 분활\n",
    "    y_train, y_val = iod_y[:-split_num], iod_y[-split_num:]\n",
    "\n",
    "    return x_train, x_val, y_train, y_val"
   ]
  },
  {
   "cell_type": "markdown",
   "metadata": {
    "id": "TV3RYPOHUpGt"
   },
   "source": [
    "### 모델생성 및 평가 함수"
   ]
  },
  {
   "cell_type": "code",
   "execution_count": null,
   "metadata": {
    "id": "LtMQ5Me8UZn7"
   },
   "outputs": [],
   "source": [
    "def build_model(x_data, y_data, n_steps_in):\n",
    "    # 데이터 준비\n",
    "    x_train, x_val, y_train, y_val = split_data(x_data, y_data, n_steps_in)\n",
    "\n",
    "    # 파라미터 설정\n",
    "    verbose, epochs, batch_size = 0, 100, 32\n",
    "\n",
    "    # 매모리 리셋\n",
    "    clear_session()\n",
    "    # 시드 설정\n",
    "    SEED = 42\n",
    "    os.environ['PYTHONHASHSEED'] = str(SEED)\n",
    "    os.environ['TF_DETERMINISTIC_OPS'] = '1'\n",
    "    tf.random.set_seed(SEED)\n",
    "    np.random.seed(SEED)\n",
    "    rn.seed(SEED)\n",
    "    es_cb = EarlyStopping(monitor='val_loss', patience=10)\n",
    "\n",
    "    # define model\n",
    "    X_Input = Input(shape=(x_train.shape[1:]))\n",
    "    X_out = ConvLSTM2D(filters=20, kernel_size=(3, 3), padding='same', return_sequences=True)(X_Input)\n",
    "    X_out = BatchNormalization()(X_out)\n",
    "\n",
    "    X_out = ConvLSTM2D(filters=20, kernel_size=(3, 3), padding='same', return_sequences=True)(X_out)\n",
    "    X_out = BatchNormalization()(X_out)\n",
    "\n",
    "    X_out = ConvLSTM2D(filters=20, kernel_size=(3, 3), padding='same', return_sequences=True)(X_out)\n",
    "    X_out = BatchNormalization()(X_out)\n",
    "\n",
    "    X_out = ConvLSTM2D(filters=20, kernel_size=(3,3), padding='same', return_sequences=True)(X_out)\n",
    "    X_out = BatchNormalization()(X_out)\n",
    "\n",
    "    X_out = Conv3D(filters=1, kernel_size=(1, 1, 1))(X_out)\n",
    "\n",
    "    X_out = Flatten()(X_out)\n",
    "\n",
    "    X_out = Dense(5040, activation='swish')(X_out)\n",
    "    X_out = BatchNormalization()(X_out)\n",
    "\n",
    "    X_out = Dense(512, activation='swish')(X_out)\n",
    "    X_out = BatchNormalization()(X_out)\n",
    "\n",
    "    X_out = Dense(256, activation='swish')(X_out)\n",
    "    X_out = BatchNormalization()(X_out)\n",
    "\n",
    "    X_out = Dense(128, activation='swish')(X_out)\n",
    "    X_out = BatchNormalization()(X_out)\n",
    "\n",
    "    X_out = Dense(64, activation='swish')(X_out)\n",
    "    X_out = BatchNormalization()(X_out)\n",
    "\n",
    "    X_out = Dropout(0.5)(X_out)\n",
    "\n",
    "    X_out = Dense(12)(X_out)\n",
    "\n",
    "    convlstm_model = Model(X_Input, X_out)\n",
    "\n",
    "    convlstm_model.compile(optimizer='adam', loss='mse')\n",
    "\n",
    "    # fit model\n",
    "    convlstm_model.fit(x_train, y_train,\n",
    "                    verbose=verbose, validation_split=.2, epochs=epochs,\n",
    "                    batch_size=batch_size, callbacks=[es_cb], shuffle=False)\n",
    "\n",
    "    # predict\n",
    "    y_hat = convlstm_model.predict(x_val, verbose=0)\n",
    "\n",
    "    return y_val, y_hat, convlstm_model"
   ]
  },
  {
   "cell_type": "code",
   "execution_count": null,
   "metadata": {
    "id": "VVtoV0YlUZrU"
   },
   "outputs": [],
   "source": [
    "# evaluate one or more weekly forecasts against expected values\n",
    "def evaluate_forecasts(actual, predicted):\n",
    "    scores = list()\n",
    "    # calculate an RMSE score for each day\n",
    "    for i in range(actual.shape[1]):\n",
    "        rmse = mean_squared_error(actual[:, i], predicted[:, i], squared=False)\n",
    "        scores.append(rmse)\n",
    "\n",
    "    # calculate overall RMSE\n",
    "    s = 0\n",
    "    for row in range(actual.shape[0]):\n",
    "        for col in range(actual.shape[1]):\n",
    "            s += (actual[row, col] - predicted[row, col])**2\n",
    "            score = np.sqrt(s / (actual.shape[0] * actual.shape[1]))\n",
    "    return score, scores"
   ]
  },
  {
   "cell_type": "code",
   "execution_count": null,
   "metadata": {
    "id": "6VwB0fs33X50"
   },
   "outputs": [],
   "source": [
    "# summarize scores\n",
    "def summarize_scores(name, score, scores):\n",
    "    s_scores = ', '.join([f'{s:.3f}' for s in scores])\n",
    "    print(f'{name}: [{score:.3f}] {s_scores}')\n",
    "    print('='*80)\n",
    "\n",
    "    # plot scores\n",
    "    months = [str(i) for i in range(1, 13)]\n",
    "    plt.figure(figsize=(12, 6))\n",
    "    plt.plot(months, scores, marker='o')\n",
    "    plt.title(name)\n",
    "    plt.xlabel('Lead Time(Months)')\n",
    "    plt.ylabel('RMSE')\n",
    "    plt.grid(linestyle='--', color='gray', alpha=0.7)\n",
    "    plt.show()"
   ]
  },
  {
   "cell_type": "markdown",
   "metadata": {
    "id": "7mx-qvSZjezj"
   },
   "source": [
    "## (2) 기존예측인자로 예측"
   ]
  },
  {
   "cell_type": "code",
   "execution_count": null,
   "metadata": {
    "colab": {
     "base_uri": "https://localhost:8080/",
     "height": 559
    },
    "id": "RjNYgbqWBGba",
    "outputId": "fe4f27fc-be0b-4de8-ff9a-ea48d156e257"
   },
   "outputs": [],
   "source": [
    "# 기존 features 2개월\n",
    "n_steps_in = 2\n",
    "name = 'past_2_months'\n",
    "\n",
    "y_val, y_hat, past_2_months_model = build_model(feature_total, iod_data, n_steps_in)\n",
    "past_2_months_score, past_2_months_scores = evaluate_forecasts(y_val, y_hat)\n",
    "summarize_scores(name, past_2_months_score, past_2_months_scores)"
   ]
  },
  {
   "cell_type": "code",
   "execution_count": null,
   "metadata": {
    "colab": {
     "base_uri": "https://localhost:8080/",
     "height": 562
    },
    "id": "0Y029i_yWhRh",
    "outputId": "67c4da52-c11f-46a1-eaf3-1087d84e47a3"
   },
   "outputs": [],
   "source": [
    "# 기존 features 3개월\n",
    "n_steps_in = 3\n",
    "name = 'past_3_months'\n",
    "\n",
    "y_val, y_hat, past_3_months_model = build_model(feature_total, iod_data, n_steps_in)\n",
    "past_3_months_score, past_3_months_scores = evaluate_forecasts(y_val, y_hat)\n",
    "summarize_scores(name, past_3_months_score, past_3_months_scores)"
   ]
  },
  {
   "cell_type": "code",
   "execution_count": null,
   "metadata": {
    "colab": {
     "base_uri": "https://localhost:8080/",
     "height": 566
    },
    "id": "nozzTiEtprN4",
    "outputId": "336ca1c1-72cc-4a20-de17-df024a2ec8fa"
   },
   "outputs": [],
   "source": [
    "# 기존 features 6개월\n",
    "n_steps_in = 6\n",
    "name = 'past_6_months'\n",
    "\n",
    "y_val, y_hat, past_6_months_model = build_model(feature_total, iod_data, n_steps_in)\n",
    "past_6_months_score, past_6_months_scores = evaluate_forecasts(y_val, y_hat)\n",
    "summarize_scores(name, past_6_months_score, past_6_months_scores)"
   ]
  },
  {
   "cell_type": "code",
   "execution_count": null,
   "metadata": {
    "colab": {
     "base_uri": "https://localhost:8080/",
     "height": 572
    },
    "id": "Uit0DJpBpri4",
    "outputId": "bfdd60f9-4bf1-433d-da82-6e6651d36a4c"
   },
   "outputs": [],
   "source": [
    "# 기존 features 12개월\n",
    "n_steps_in = 12\n",
    "name = 'past_12_months'\n",
    "\n",
    "y_val, y_hat, past_12_months_model = build_model(feature_total, iod_data, n_steps_in)\n",
    "past_12_months_score, past_12_months_scores = evaluate_forecasts(y_val, y_hat)\n",
    "summarize_scores(name, past_12_months_score, past_12_months_scores)"
   ]
  },
  {
   "cell_type": "code",
   "execution_count": null,
   "metadata": {
    "colab": {
     "base_uri": "https://localhost:8080/",
     "height": 566
    },
    "id": "-Y4fewsJprvY",
    "outputId": "446a027a-4911-4b01-fc1c-8ca5081f8b7b"
   },
   "outputs": [],
   "source": [
    "# 기존 features 24개월\n",
    "n_steps_in = 24\n",
    "name = 'past_24_months'\n",
    "\n",
    "y_val, y_hat, past_24_months_model = build_model(feature_total, iod_data, n_steps_in)\n",
    "past_24_months_score, past_24_months_scores = evaluate_forecasts(y_val, y_hat)\n",
    "summarize_scores(name, past_24_months_score, past_24_months_scores)"
   ]
  },
  {
   "cell_type": "markdown",
   "metadata": {
    "id": "H48PdWWnjpZ7"
   },
   "source": [
    "## (3) 온실가스를 포함한 예측"
   ]
  },
  {
   "cell_type": "code",
   "execution_count": null,
   "metadata": {
    "colab": {
     "base_uri": "https://localhost:8080/",
     "height": 580
    },
    "id": "vRISGjraF65r",
    "outputId": "da99073a-295f-42e8-bb95-8792b16548f4"
   },
   "outputs": [],
   "source": [
    "# new features 2개월\n",
    "n_steps_in = 2\n",
    "name = 'gas_past_2_months'\n",
    "\n",
    "y_val, y_hat, gas_past_2_months_model = build_model(feature_total_gas, iod_data, n_steps_in)\n",
    "gas_past_2_months_score, gas_past_2_months_scores = evaluate_forecasts(y_val, y_hat)\n",
    "summarize_scores(name, gas_past_2_months_score, gas_past_2_months_scores)"
   ]
  },
  {
   "cell_type": "code",
   "execution_count": null,
   "metadata": {
    "colab": {
     "base_uri": "https://localhost:8080/",
     "height": 559
    },
    "id": "8_ldERVuuKHc",
    "outputId": "f3422c7e-8e0a-44a9-fc59-9d9cd2820003"
   },
   "outputs": [],
   "source": [
    "# new features 3개월\n",
    "n_steps_in = 3\n",
    "name = 'gas_past_3_months'\n",
    "\n",
    "y_val, y_hat, gas_past_3_months_model = build_model(feature_total_gas, iod_data, n_steps_in)\n",
    "gas_past_3_months_score, gas_past_3_months_scores = evaluate_forecasts(y_val, y_hat)\n",
    "summarize_scores(name, gas_past_3_months_score, gas_past_3_months_scores)"
   ]
  },
  {
   "cell_type": "code",
   "execution_count": null,
   "metadata": {
    "colab": {
     "base_uri": "https://localhost:8080/",
     "height": 566
    },
    "id": "c-T_09yiuKmF",
    "outputId": "0f5b00c1-b89e-423e-8fd0-aef88106e167"
   },
   "outputs": [],
   "source": [
    "# new features 6개월\n",
    "n_steps_in = 6\n",
    "name = 'gas_past_6_months'\n",
    "\n",
    "y_val, y_hat, gas_past_6_months_model = build_model(feature_total_gas, iod_data, n_steps_in)\n",
    "gas_past_6_months_score, gas_past_6_months_scores = evaluate_forecasts(y_val, y_hat)\n",
    "summarize_scores(name, gas_past_6_months_score, gas_past_6_months_scores)"
   ]
  },
  {
   "cell_type": "code",
   "execution_count": null,
   "metadata": {
    "colab": {
     "base_uri": "https://localhost:8080/",
     "height": 562
    },
    "id": "muSaRMnMj1u-",
    "outputId": "50d48d84-23f2-4b73-b262-fecc7b5774df"
   },
   "outputs": [],
   "source": [
    "# new features 12개월\n",
    "n_steps_in = 12\n",
    "name = 'gas_past_12_months'\n",
    "\n",
    "y_val, y_hat, gas_past_12_months_model = build_model(feature_total_gas, iod_data, n_steps_in)\n",
    "gas_past_12_months_score, gas_past_12_months_scores = evaluate_forecasts(y_val, y_hat)\n",
    "summarize_scores(name, gas_past_12_months_score, gas_past_12_months_scores)"
   ]
  },
  {
   "cell_type": "code",
   "execution_count": null,
   "metadata": {
    "colab": {
     "base_uri": "https://localhost:8080/",
     "height": 572
    },
    "id": "xYJQgViluais",
    "outputId": "d62fc0ee-f089-45d6-9aae-19475dad0a9f"
   },
   "outputs": [],
   "source": [
    "# new features 24개월\n",
    "n_steps_in = 24\n",
    "name = 'gas_past_24_months'\n",
    "\n",
    "y_val, y_hat, gas_past_24_months_model = build_model(feature_total_gas, iod_data, n_steps_in)\n",
    "gas_past_24_months_score, gas_past_24_months_scores = evaluate_forecasts(y_val, y_hat)\n",
    "summarize_scores(name, gas_past_24_months_score, gas_past_24_months_scores)"
   ]
  },
  {
   "cell_type": "markdown",
   "metadata": {
    "id": "59QIjfpQ4OMP"
   },
   "source": [
    "# 5. 결과"
   ]
  },
  {
   "cell_type": "markdown",
   "metadata": {
    "id": "6AxJYsXW4c2g"
   },
   "source": [
    "## (1) 각 모델별 RMSE 비교"
   ]
  },
  {
   "cell_type": "code",
   "execution_count": null,
   "metadata": {
    "colab": {
     "base_uri": "https://localhost:8080/",
     "height": 475
    },
    "id": "M-FsFSf84Rtr",
    "outputId": "576e9caa-c3b3-457c-8fb0-31f45a946861"
   },
   "outputs": [],
   "source": [
    "months = [str(i) for i in range(1, 13)]\n",
    "plt.figure(figsize=(12, 6))\n",
    "plt.plot(months, past_2_months_scores, marker='o', label='org_2')\n",
    "plt.plot(months, past_3_months_scores, marker='o', label='org_3')\n",
    "plt.plot(months, past_6_months_scores, marker='o', label='org_6')\n",
    "plt.plot(months, past_12_months_scores, marker='o', label='org_12')\n",
    "plt.plot(months, past_24_months_scores, marker='o', label='org_24')\n",
    "\n",
    "plt.plot(months, gas_past_2_months_scores, marker='o', label='gas_2')\n",
    "plt.plot(months, gas_past_3_months_scores, marker='o', label='gas_3')\n",
    "plt.plot(months, gas_past_6_months_scores, marker='o', label='gas_6')\n",
    "plt.plot(months, gas_past_12_months_scores, marker='o', label='gas_12')\n",
    "plt.plot(months, gas_past_24_months_scores, marker='o', label='gas_24')\n",
    "plt.ylim(0.4, 1) # y축 범위 지정(0.4부터 1까지의 값만 표시)\n",
    "plt.title('Result')\n",
    "plt.xlabel('Lead Time(Months)')\n",
    "plt.ylabel('RMSE')\n",
    "plt.grid(linestyle='--', color='gray', alpha=0.7)\n",
    "plt.legend()\n",
    "plt.show()"
   ]
  },
  {
   "cell_type": "markdown",
   "metadata": {
    "id": "sdYtcJD44Wv3"
   },
   "source": [
    "## (2) 12개월 IOD 예측"
   ]
  },
  {
   "cell_type": "code",
   "execution_count": null,
   "metadata": {
    "id": "pl0Sk2_oV9QI"
   },
   "outputs": [],
   "source": [
    "IOD_pred = [0 for _ in range(12)]"
   ]
  },
  {
   "cell_type": "code",
   "execution_count": null,
   "metadata": {
    "colab": {
     "base_uri": "https://localhost:8080/"
    },
    "id": "SZnFL1dc4TeA",
    "outputId": "5d4fef0a-ff19-41cf-96d1-c5a849589a27"
   },
   "outputs": [],
   "source": [
    "# Leed Time 1, 3, 6 (past_3_months_model)\n",
    "n = 3\n",
    "x_test_3 = feature_total[-n:]\n",
    "x_test_3 = x_test_3.reshape(1, n, feature_total.shape[1], feature_total.shape[2], feature_total.shape[3])\n",
    "past_3_pred = past_3_months_model.predict(x_test_3)\n",
    "\n",
    "# 데이터 적용\n",
    "leed_time = [1, 3, 6]\n",
    "for i in leed_time:\n",
    "    IOD_pred[i-1] = past_3_pred[0][i-1]"
   ]
  },
  {
   "cell_type": "code",
   "execution_count": null,
   "metadata": {
    "colab": {
     "base_uri": "https://localhost:8080/"
    },
    "id": "cyTC1cFWS1lZ",
    "outputId": "eeaef835-2f19-4b2c-964f-04abb47d79b9"
   },
   "outputs": [],
   "source": [
    "# Leed Time 5, 7, 10, 11 (gas_past_2_months_model)\n",
    "n = 2\n",
    "x_test_2_gas = feature_total_gas[-n:]\n",
    "x_test_2_gas = x_test_2_gas.reshape(1, n, feature_total_gas.shape[1], feature_total_gas.shape[2], feature_total_gas.shape[3])\n",
    "past_2_pred_gas = gas_past_2_months_model.predict(x_test_2_gas)\n",
    "\n",
    "# 데이터 적용\n",
    "leed_time = [5, 7, 10, 11]\n",
    "for i in leed_time:\n",
    "    IOD_pred[i-1] = past_2_pred_gas[0][i-1]"
   ]
  },
  {
   "cell_type": "code",
   "execution_count": null,
   "metadata": {
    "colab": {
     "base_uri": "https://localhost:8080/"
    },
    "id": "o1y75-OHS1su",
    "outputId": "eb99bcec-c32e-42d7-eaef-ce879abb3885"
   },
   "outputs": [],
   "source": [
    "# Leed Time 2, 4, 9, 12 (gas_past_3_months_model)\n",
    "n = 3\n",
    "x_test_3_gas = feature_total_gas[-n:]\n",
    "x_test_3_gas = x_test_3_gas.reshape(1, n, feature_total_gas.shape[1], feature_total_gas.shape[2], feature_total_gas.shape[3])\n",
    "past_3_pred_gas = gas_past_3_months_model.predict(x_test_3_gas)\n",
    "\n",
    "# 데이터 적용\n",
    "leed_time = [2, 4, 9, 12]\n",
    "for i in leed_time:\n",
    "    IOD_pred[i-1] = past_3_pred_gas[0][i-1]"
   ]
  },
  {
   "cell_type": "code",
   "execution_count": null,
   "metadata": {
    "colab": {
     "base_uri": "https://localhost:8080/"
    },
    "id": "_0W_KwCbS100",
    "outputId": "2eab7856-b1cb-4465-f9b8-8b7e18950526"
   },
   "outputs": [],
   "source": [
    "# Leed Time 8 (gas_past_6_months_model)\n",
    "n = 6\n",
    "x_test_6_gas = feature_total_gas[-n:]\n",
    "x_test_6_gas = x_test_6_gas.reshape(1, n, feature_total_gas.shape[1], feature_total_gas.shape[2], feature_total_gas.shape[3])\n",
    "past_6_pred_gas = gas_past_6_months_model.predict(x_test_6_gas)\n",
    "\n",
    "# 데이터 적용\n",
    "leed_time = [8]\n",
    "for i in leed_time:\n",
    "    IOD_pred[i-1] = past_6_pred_gas[0][i-1]"
   ]
  },
  {
   "cell_type": "code",
   "execution_count": null,
   "metadata": {
    "colab": {
     "base_uri": "https://localhost:8080/"
    },
    "id": "9NHUjQ9jXNEV",
    "outputId": "68c7a1ff-be2c-4ad1-db5e-dc8ab6c6cedb"
   },
   "outputs": [],
   "source": [
    "print('IOD 12months predict : ', IOD_pred)"
   ]
  },
  {
   "cell_type": "markdown",
   "metadata": {
    "id": "UHE-dinXhAQ4"
   },
   "source": [
    "## (3) 12개월 IOD 예측결과"
   ]
  },
  {
   "cell_type": "code",
   "execution_count": null,
   "metadata": {
    "colab": {
     "base_uri": "https://localhost:8080/"
    },
    "id": "NpRSmGpdhTwG",
    "outputId": "5d24279a-396b-4e6d-b0a6-eeaf8e538c14"
   },
   "outputs": [],
   "source": [
    "print('IOD 12months predict : ', IOD_pred)"
   ]
  },
  {
   "cell_type": "markdown",
   "metadata": {
    "id": "nOzJ2cGqfLUG"
   },
   "source": [
    "||2023/08/01|2023/09/01|2023/10/01|2023/11/01|2023/12/01|2024/01/01|2024/02/01|2024/03/01|2024/04/01|2024/05/01|2024/06/01|2024/07/01|\n",
    "|---|---|---|---|---|---|---|---|---|---|---|---|---|\n",
    "|IOD|0.11150973|0.09338133|0.054903753|0.109347954|0.10077257|0.0029698047|0.045509547|0.08101446|0.15675062|0.10012395|-0.0009515595|-0.06319296|\n",
    "\n"
   ]
  }
 ],
 "metadata": {
  "accelerator": "GPU",
  "colab": {
   "collapsed_sections": [
    "mMgMT11ifO5j",
    "VxE4UIA_fpDJ",
    "T9QvrvwlmjGs",
    "uO6dIeCZSooJ"
   ],
   "gpuType": "T4",
   "machine_shape": "hm",
   "provenance": []
  },
  "kernelspec": {
   "display_name": "Python 3 (ipykernel)",
   "language": "python",
   "name": "python3"
  },
  "language_info": {
   "codemirror_mode": {
    "name": "ipython",
    "version": 3
   },
   "file_extension": ".py",
   "mimetype": "text/x-python",
   "name": "python",
   "nbconvert_exporter": "python",
   "pygments_lexer": "ipython3",
   "version": "3.10.9"
  }
 },
 "nbformat": 4,
 "nbformat_minor": 1
}
